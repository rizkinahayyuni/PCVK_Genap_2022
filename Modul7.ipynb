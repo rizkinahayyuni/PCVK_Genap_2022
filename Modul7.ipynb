{
  "nbformat": 4,
  "nbformat_minor": 0,
  "metadata": {
    "colab": {
      "name": "Modul7.ipynb",
      "provenance": [],
      "authorship_tag": "ABX9TyMz5YK4N6rAbaiXi4Q1roEG",
      "include_colab_link": true
    },
    "kernelspec": {
      "name": "python3",
      "display_name": "Python 3"
    },
    "language_info": {
      "name": "python"
    }
  },
  "cells": [
    {
      "cell_type": "markdown",
      "metadata": {
        "id": "view-in-github",
        "colab_type": "text"
      },
      "source": [
        "<a href=\"https://colab.research.google.com/github/rizkinahayyuni/PCVK_Genap_2022/blob/main/Modul7.ipynb\" target=\"_parent\"><img src=\"https://colab.research.google.com/assets/colab-badge.svg\" alt=\"Open In Colab\"/></a>"
      ]
    },
    {
      "cell_type": "markdown",
      "source": [
        "# **PRAKTIKUM FILTER**\n",
        "\n",
        "\n",
        "**Fungsi Konvolusi**"
      ],
      "metadata": {
        "id": "Zw2-5akHSt1W"
      }
    },
    {
      "cell_type": "code",
      "execution_count": 1,
      "metadata": {
        "colab": {
          "base_uri": "https://localhost:8080/"
        },
        "id": "UToQX3bpSppx",
        "outputId": "e0bc5a65-00af-40f5-cdbd-63692c9ae8fc"
      },
      "outputs": [
        {
          "output_type": "stream",
          "name": "stdout",
          "text": [
            "Mounted at /content/drive\n"
          ]
        }
      ],
      "source": [
        "from google.colab import drive\n",
        "\n",
        "drive.mount('/content/drive')"
      ]
    },
    {
      "cell_type": "code",
      "source": [
        "import numpy as np\n",
        "import matplotlib.pyplot as plt\n",
        "import cv2 as cv\n",
        "from google.colab.patches import cv2_imshow\n",
        "import math\n",
        "from PIL import Image as im"
      ],
      "metadata": {
        "id": "_cSQgir2TP3U"
      },
      "execution_count": 2,
      "outputs": []
    },
    {
      "cell_type": "markdown",
      "source": [
        "# **Konvolusi tanpa Library**"
      ],
      "metadata": {
        "id": "jSIXxPlWTc90"
      }
    },
    {
      "cell_type": "markdown",
      "source": [
        "**Membuat fungsi konvolusi**\n",
        "\n",
        "Fungsi konvolusi yang dibuat memiliki parameter berupa :\n",
        "\n",
        "1. Citra masukan,\n",
        "\n",
        "2. Kernel berupa matriks untuk memfilter citra,\n",
        "\n",
        "3. Nilai stride / besarnya pergeseran untuk setiap konvolusi,\n",
        "\n",
        "4. Nilai pad yang akan ditambahkan pada citra"
      ],
      "metadata": {
        "id": "QUwWLuWhTvE5"
      }
    },
    {
      "cell_type": "code",
      "source": [
        ""
      ],
      "metadata": {
        "id": "ZZOnpexcTcEb"
      },
      "execution_count": null,
      "outputs": []
    }
  ]
}